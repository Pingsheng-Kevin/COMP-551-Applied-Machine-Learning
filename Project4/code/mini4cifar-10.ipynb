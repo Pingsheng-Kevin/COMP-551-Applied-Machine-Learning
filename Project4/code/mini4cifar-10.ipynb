{
 "cells": [
  {
   "cell_type": "code",
   "execution_count": 8,
   "metadata": {
    "_cell_guid": "b1076dfc-b9ad-4769-8c92-a6c4dae69d19",
    "_uuid": "8f2839f25d086af736a60e9eeb907d3b93b6e0e5"
   },
   "outputs": [],
   "source": [
    "from tensorflow.keras import datasets, layers, models\n",
    "import matplotlib.pyplot as plt\n",
    "from tensorflow import keras\n",
    "from tensorflow.keras.layers.experimental import RandomFourierFeatures\n",
    "from keras.utils import np_utils\n",
    "%matplotlib inline\n",
    "\n",
    "# Load Data\n",
    "(train_images, train_labels), (test_images, test_labels) = datasets.cifar10.load_data()\n",
    "# Normalize pixel values to be between 0 and 1\n",
    "train_images, test_images = train_images / 255.0, test_images / 255.0\n",
    "\n",
    "train_labels = np_utils.to_categorical(train_labels) \n",
    "test_labels = np_utils.to_categorical(test_labels)\n",
    "\n",
    "model = models.Sequential()\n",
    "model.add(layers.Conv2D(filters=32, kernel_size=5, activation='relu', input_shape=(32, 32, 3)))\n",
    "model.add(layers.MaxPooling2D(pool_size=2))\n",
    "model.add(layers.Conv2D(filters=64, kernel_size=5, activation='relu'))\n",
    "model.add(layers.MaxPooling2D(pool_size=2))\n",
    "\n",
    "model.add(layers.Flatten())\n",
    "model.add(layers.Dense(units=3072, activation='relu'))\n",
    "\n",
    "# Softmax CNN with Dropout\n",
    "model1 = models.clone_model(model)\n",
    "model1.add(layers.Dropout(rate=.2))\n",
    "model1.add(layers.Dense(units=10, activation='softmax'))\n",
    "# Compile the model.\n",
    "model1.compile(\n",
    "    'adam',\n",
    "    loss='categorical_crossentropy',\n",
    "    metrics=['accuracy'],\n",
    ")\n",
    "\n",
    "# Softmax CNN without Droupout\n",
    "model2 = models.clone_model(model)\n",
    "model2.add(layers.Dense(units=10))\n",
    "# Compile the model.\n",
    "model2.compile(\n",
    "    'adam',\n",
    "    loss='categorical_crossentropy',\n",
    "    metrics=['accuracy'],\n",
    ")\n",
    "\n",
    "# CNN + SVM with Dropout\n",
    "model3 = models.clone_model(model)\n",
    "model3.add(layers.Dropout(rate=.2))\n",
    "model3.add(RandomFourierFeatures(\n",
    "    output_dim=3072, scale=10.0, kernel_initializer=\"gaussian\"\n",
    "))\n",
    "model3.add(layers.Dense(units=10))\n",
    "# Compile the model.\n",
    "model3.compile(\n",
    "    'adam',\n",
    "    loss=keras.losses.hinge,\n",
    "    metrics=['accuracy'],\n",
    ")\n",
    "\n",
    "    "
   ]
  },
  {
   "cell_type": "code",
   "execution_count": 9,
   "metadata": {},
   "outputs": [
    {
     "name": "stdout",
     "output_type": "stream",
     "text": [
      "Epoch 1/20\n",
      "1563/1563 [==============================] - 7s 4ms/step - loss: 1.6979 - accuracy: 0.3781 - val_loss: 1.3418 - val_accuracy: 0.5307\n",
      "Epoch 2/20\n",
      "1563/1563 [==============================] - 6s 4ms/step - loss: 1.2034 - accuracy: 0.5778 - val_loss: 1.1031 - val_accuracy: 0.6096\n",
      "Epoch 3/20\n",
      "1563/1563 [==============================] - 6s 4ms/step - loss: 0.9877 - accuracy: 0.6552 - val_loss: 1.0347 - val_accuracy: 0.6451\n",
      "Epoch 4/20\n",
      "1563/1563 [==============================] - 6s 4ms/step - loss: 0.8226 - accuracy: 0.7126 - val_loss: 1.0304 - val_accuracy: 0.6516\n",
      "Epoch 5/20\n",
      "1563/1563 [==============================] - 6s 4ms/step - loss: 0.6747 - accuracy: 0.7617 - val_loss: 1.0048 - val_accuracy: 0.6767\n",
      "Epoch 6/20\n",
      "1563/1563 [==============================] - 6s 4ms/step - loss: 0.5396 - accuracy: 0.8109 - val_loss: 1.0544 - val_accuracy: 0.6616\n",
      "Epoch 7/20\n",
      "1563/1563 [==============================] - 6s 4ms/step - loss: 0.4222 - accuracy: 0.8537 - val_loss: 1.1493 - val_accuracy: 0.6823\n",
      "Epoch 8/20\n",
      "1563/1563 [==============================] - 6s 4ms/step - loss: 0.3149 - accuracy: 0.8919 - val_loss: 1.2192 - val_accuracy: 0.6822\n",
      "Epoch 9/20\n",
      "1563/1563 [==============================] - 7s 4ms/step - loss: 0.2539 - accuracy: 0.9126 - val_loss: 1.3572 - val_accuracy: 0.6831\n",
      "Epoch 10/20\n",
      "1563/1563 [==============================] - 6s 4ms/step - loss: 0.2018 - accuracy: 0.9319 - val_loss: 1.4527 - val_accuracy: 0.6742\n",
      "Epoch 11/20\n",
      "1563/1563 [==============================] - 6s 4ms/step - loss: 0.1710 - accuracy: 0.9442 - val_loss: 1.5687 - val_accuracy: 0.6773\n",
      "Epoch 12/20\n",
      "1563/1563 [==============================] - 6s 4ms/step - loss: 0.1669 - accuracy: 0.9445 - val_loss: 1.7675 - val_accuracy: 0.6783\n",
      "Epoch 13/20\n",
      "1563/1563 [==============================] - 6s 4ms/step - loss: 0.1478 - accuracy: 0.9520 - val_loss: 1.7404 - val_accuracy: 0.6776\n",
      "Epoch 14/20\n",
      "1563/1563 [==============================] - 6s 4ms/step - loss: 0.1232 - accuracy: 0.9597 - val_loss: 1.9169 - val_accuracy: 0.6753\n",
      "Epoch 15/20\n",
      "1563/1563 [==============================] - 6s 4ms/step - loss: 0.1355 - accuracy: 0.9555 - val_loss: 1.9760 - val_accuracy: 0.6773\n",
      "Epoch 16/20\n",
      "1563/1563 [==============================] - 6s 4ms/step - loss: 0.1174 - accuracy: 0.9631 - val_loss: 2.0619 - val_accuracy: 0.6837\n",
      "Epoch 17/20\n",
      "1563/1563 [==============================] - 6s 4ms/step - loss: 0.1218 - accuracy: 0.9596 - val_loss: 2.1922 - val_accuracy: 0.6777\n",
      "Epoch 18/20\n",
      "1563/1563 [==============================] - 6s 4ms/step - loss: 0.1122 - accuracy: 0.9645 - val_loss: 2.1210 - val_accuracy: 0.6636\n",
      "Epoch 19/20\n",
      "1563/1563 [==============================] - 6s 4ms/step - loss: 0.1073 - accuracy: 0.9666 - val_loss: 2.1709 - val_accuracy: 0.6739\n",
      "Epoch 20/20\n",
      "1563/1563 [==============================] - 6s 4ms/step - loss: 0.1106 - accuracy: 0.9669 - val_loss: 2.3418 - val_accuracy: 0.6696\n",
      "Epoch 1/20\n",
      "1563/1563 [==============================] - 8s 5ms/step - loss: 0.2857 - accuracy: 0.2666 - val_loss: 0.2156 - val_accuracy: 0.5041\n",
      "Epoch 2/20\n",
      "1563/1563 [==============================] - 7s 5ms/step - loss: 0.2037 - accuracy: 0.5240 - val_loss: 0.1841 - val_accuracy: 0.5867\n",
      "Epoch 3/20\n",
      "1563/1563 [==============================] - 7s 5ms/step - loss: 0.1821 - accuracy: 0.6016 - val_loss: 0.1886 - val_accuracy: 0.6110\n",
      "Epoch 4/20\n",
      "1563/1563 [==============================] - 7s 5ms/step - loss: 0.1653 - accuracy: 0.6512 - val_loss: 0.1729 - val_accuracy: 0.6437\n",
      "Epoch 5/20\n",
      "1563/1563 [==============================] - 7s 4ms/step - loss: 0.1499 - accuracy: 0.6951 - val_loss: 0.1827 - val_accuracy: 0.6556\n",
      "Epoch 6/20\n",
      "1563/1563 [==============================] - 7s 5ms/step - loss: 0.1339 - accuracy: 0.7425 - val_loss: 0.1743 - val_accuracy: 0.6723\n",
      "Epoch 7/20\n",
      "1563/1563 [==============================] - 7s 5ms/step - loss: 0.1158 - accuracy: 0.7849 - val_loss: 0.1798 - val_accuracy: 0.6678\n",
      "Epoch 8/20\n",
      "1563/1563 [==============================] - 7s 5ms/step - loss: 0.1011 - accuracy: 0.8210 - val_loss: 0.2066 - val_accuracy: 0.6544\n",
      "Epoch 9/20\n",
      "1563/1563 [==============================] - 7s 5ms/step - loss: 0.0852 - accuracy: 0.8568 - val_loss: 0.2094 - val_accuracy: 0.6664\n",
      "Epoch 10/20\n",
      "1563/1563 [==============================] - 7s 5ms/step - loss: 0.0757 - accuracy: 0.8805 - val_loss: 0.2106 - val_accuracy: 0.6781\n",
      "Epoch 11/20\n",
      "1563/1563 [==============================] - 7s 5ms/step - loss: 0.0625 - accuracy: 0.9099 - val_loss: 0.2282 - val_accuracy: 0.6772\n",
      "Epoch 12/20\n",
      "1563/1563 [==============================] - 7s 5ms/step - loss: 0.0543 - accuracy: 0.9246 - val_loss: 0.2373 - val_accuracy: 0.6796\n",
      "Epoch 13/20\n",
      "1563/1563 [==============================] - 7s 5ms/step - loss: 0.0506 - accuracy: 0.9370 - val_loss: 0.2418 - val_accuracy: 0.6783\n",
      "Epoch 14/20\n",
      "1563/1563 [==============================] - 7s 5ms/step - loss: 0.0471 - accuracy: 0.9432 - val_loss: 0.2491 - val_accuracy: 0.6801\n",
      "Epoch 15/20\n",
      "1563/1563 [==============================] - 7s 5ms/step - loss: 0.0410 - accuracy: 0.9536 - val_loss: 0.2758 - val_accuracy: 0.6737\n",
      "Epoch 16/20\n",
      "1563/1563 [==============================] - 7s 4ms/step - loss: 0.0405 - accuracy: 0.9563 - val_loss: 0.2710 - val_accuracy: 0.6751\n",
      "Epoch 17/20\n",
      "1563/1563 [==============================] - 7s 5ms/step - loss: 0.0387 - accuracy: 0.9602 - val_loss: 0.2875 - val_accuracy: 0.6848\n",
      "Epoch 18/20\n",
      "1563/1563 [==============================] - 7s 5ms/step - loss: 0.0358 - accuracy: 0.9638 - val_loss: 0.2930 - val_accuracy: 0.6746\n",
      "Epoch 19/20\n",
      "1563/1563 [==============================] - 7s 4ms/step - loss: 0.0339 - accuracy: 0.9686 - val_loss: 0.3042 - val_accuracy: 0.6827\n",
      "Epoch 20/20\n",
      "1563/1563 [==============================] - 7s 5ms/step - loss: 0.0325 - accuracy: 0.9688 - val_loss: 0.3278 - val_accuracy: 0.6692\n"
     ]
    },
    {
     "data": {
      "image/png": "[encoded data removed]",
      "text/plain": [
       "<Figure size 432x288 with 1 Axes>"
      ]
     },
     "metadata": {
      "needs_background": "light"
     },
     "output_type": "display_data"
    }
   ],
   "source": [
    "# Experiment1: Softmax CNN and CNN + SVM\n",
    "history1 = model1.fit(train_images, train_labels, epochs=20,\n",
    "              validation_data=(test_images, test_labels))\n",
    "history3 = model3.fit(train_images, train_labels, epochs=20,\n",
    "              validation_data=(test_images, test_labels))\n",
    "\n",
    "plt.plot(history1.history['accuracy'], label='SoftMax CNN Accuracy')\n",
    "plt.plot(history1.history['val_accuracy'], label='SoftMax CNN val_accuracy')\n",
    "plt.plot(history3.history['accuracy'], label='CNN+SVM Accuracy')\n",
    "plt.plot(history3.history['val_accuracy'], label='CNN+SVM val_accuracy')\n",
    "plt.xlabel('Epoch')\n",
    "plt.ylabel('Accuracy')\n",
    "plt.ylim([0.1, 1])\n",
    "plt.legend(loc='lower right')\n",
    "plt.show()"
   ]
  },
  {
   "cell_type": "code",
   "execution_count": 10,
   "metadata": {},
   "outputs": [
    {
     "data": {
      "text/plain": [
       "<Figure size 432x288 with 0 Axes>"
      ]
     },
     "metadata": {},
     "output_type": "display_data"
    }
   ],
   "source": [
    "plt.clf()"
   ]
  },
  {
   "cell_type": "code",
   "execution_count": 11,
   "metadata": {},
   "outputs": [
    {
     "name": "stdout",
     "output_type": "stream",
     "text": [
      "Epoch 1/20\n",
      "1563/1563 [==============================] - 6s 4ms/step - loss: 0.1196 - accuracy: 0.9636 - val_loss: 2.4663 - val_accuracy: 0.6736\n",
      "Epoch 2/20\n",
      "1563/1563 [==============================] - 6s 4ms/step - loss: 0.1227 - accuracy: 0.9634 - val_loss: 2.4799 - val_accuracy: 0.6738\n",
      "Epoch 3/20\n",
      "1563/1563 [==============================] - 6s 4ms/step - loss: 0.1212 - accuracy: 0.9653 - val_loss: 2.5999 - val_accuracy: 0.6656\n",
      "Epoch 4/20\n",
      "1563/1563 [==============================] - 6s 4ms/step - loss: 0.1112 - accuracy: 0.9674 - val_loss: 2.7216 - val_accuracy: 0.6583\n",
      "Epoch 5/20\n",
      "1563/1563 [==============================] - 6s 4ms/step - loss: 0.1101 - accuracy: 0.9691 - val_loss: 2.7865 - val_accuracy: 0.6621\n",
      "Epoch 6/20\n",
      "1563/1563 [==============================] - 6s 4ms/step - loss: 0.1222 - accuracy: 0.9662 - val_loss: 2.6975 - val_accuracy: 0.6707\n",
      "Epoch 7/20\n",
      "1563/1563 [==============================] - 6s 4ms/step - loss: 0.1039 - accuracy: 0.9708 - val_loss: 2.7564 - val_accuracy: 0.6613\n",
      "Epoch 8/20\n",
      "1563/1563 [==============================] - 6s 4ms/step - loss: 0.1122 - accuracy: 0.9678 - val_loss: 2.8730 - val_accuracy: 0.6615\n",
      "Epoch 9/20\n",
      "1563/1563 [==============================] - 6s 4ms/step - loss: 0.0989 - accuracy: 0.9718 - val_loss: 3.1001 - val_accuracy: 0.6707\n",
      "Epoch 10/20\n",
      "1563/1563 [==============================] - 6s 4ms/step - loss: 0.1119 - accuracy: 0.9695 - val_loss: 3.0934 - val_accuracy: 0.6537\n",
      "Epoch 11/20\n",
      "1563/1563 [==============================] - 6s 4ms/step - loss: 0.1091 - accuracy: 0.9701 - val_loss: 3.3609 - val_accuracy: 0.6572\n",
      "Epoch 12/20\n",
      "1563/1563 [==============================] - 6s 4ms/step - loss: 0.1034 - accuracy: 0.9716 - val_loss: 3.1253 - val_accuracy: 0.6691\n",
      "Epoch 13/20\n",
      "1563/1563 [==============================] - 6s 4ms/step - loss: 0.0982 - accuracy: 0.9739 - val_loss: 3.1788 - val_accuracy: 0.6664\n",
      "Epoch 14/20\n",
      "1563/1563 [==============================] - 6s 4ms/step - loss: 0.1028 - accuracy: 0.9737 - val_loss: 3.1744 - val_accuracy: 0.6642\n",
      "Epoch 15/20\n",
      "1563/1563 [==============================] - 6s 4ms/step - loss: 0.1138 - accuracy: 0.9714 - val_loss: 3.3464 - val_accuracy: 0.6606\n",
      "Epoch 16/20\n",
      "1563/1563 [==============================] - 6s 4ms/step - loss: 0.0986 - accuracy: 0.9745 - val_loss: 3.4441 - val_accuracy: 0.6707\n",
      "Epoch 17/20\n",
      "1563/1563 [==============================] - 6s 4ms/step - loss: 0.1055 - accuracy: 0.9741 - val_loss: 3.5626 - val_accuracy: 0.6627\n",
      "Epoch 18/20\n",
      "1563/1563 [==============================] - 6s 4ms/step - loss: 0.1002 - accuracy: 0.9753 - val_loss: 3.4860 - val_accuracy: 0.6670\n",
      "Epoch 19/20\n",
      "1563/1563 [==============================] - 6s 4ms/step - loss: 0.0956 - accuracy: 0.9750 - val_loss: 3.5437 - val_accuracy: 0.6610\n",
      "Epoch 20/20\n",
      "1563/1563 [==============================] - 6s 4ms/step - loss: 0.0980 - accuracy: 0.9764 - val_loss: 3.5605 - val_accuracy: 0.6618\n",
      "Epoch 1/20\n",
      "1563/1563 [==============================] - 7s 4ms/step - loss: 9.5873 - accuracy: 0.1028 - val_loss: 9.6709 - val_accuracy: 0.1000\n",
      "Epoch 2/20\n",
      "1563/1563 [==============================] - 6s 4ms/step - loss: 9.7008 - accuracy: 0.0998 - val_loss: 9.6709 - val_accuracy: 0.1000\n",
      "Epoch 3/20\n",
      "1563/1563 [==============================] - 6s 4ms/step - loss: 9.6516 - accuracy: 0.0988 - val_loss: 9.6709 - val_accuracy: 0.1000\n",
      "Epoch 4/20\n",
      "1563/1563 [==============================] - 6s 4ms/step - loss: 9.7400 - accuracy: 0.0988 - val_loss: 9.6709 - val_accuracy: 0.1000\n",
      "Epoch 5/20\n",
      "1563/1563 [==============================] - 6s 4ms/step - loss: 9.6505 - accuracy: 0.1011 - val_loss: 9.6709 - val_accuracy: 0.1000\n",
      "Epoch 6/20\n",
      "1563/1563 [==============================] - 6s 4ms/step - loss: 9.6565 - accuracy: 0.1005 - val_loss: 9.6709 - val_accuracy: 0.1000\n",
      "Epoch 7/20\n",
      "1563/1563 [==============================] - 6s 4ms/step - loss: 9.6675 - accuracy: 0.0994 - val_loss: 9.6709 - val_accuracy: 0.1000\n",
      "Epoch 8/20\n",
      "1563/1563 [==============================] - 6s 4ms/step - loss: 9.6801 - accuracy: 0.1022 - val_loss: 9.6709 - val_accuracy: 0.1000\n",
      "Epoch 9/20\n",
      "1563/1563 [==============================] - 6s 4ms/step - loss: 9.7032 - accuracy: 0.0997 - val_loss: 9.6709 - val_accuracy: 0.1000\n",
      "Epoch 10/20\n",
      "1563/1563 [==============================] - 6s 4ms/step - loss: 9.6187 - accuracy: 0.1004 - val_loss: 9.6709 - val_accuracy: 0.1000\n",
      "Epoch 11/20\n",
      "1563/1563 [==============================] - 6s 4ms/step - loss: 9.6562 - accuracy: 0.1022 - val_loss: 9.6709 - val_accuracy: 0.1000\n",
      "Epoch 12/20\n",
      "1563/1563 [==============================] - 6s 4ms/step - loss: 9.6349 - accuracy: 0.1007 - val_loss: 9.6709 - val_accuracy: 0.1000\n",
      "Epoch 13/20\n",
      "1563/1563 [==============================] - 6s 4ms/step - loss: 9.7757 - accuracy: 0.1001 - val_loss: 9.6709 - val_accuracy: 0.1000\n",
      "Epoch 14/20\n",
      "1563/1563 [==============================] - 6s 4ms/step - loss: 9.6323 - accuracy: 0.1025 - val_loss: 9.6709 - val_accuracy: 0.1000\n",
      "Epoch 15/20\n",
      "1563/1563 [==============================] - 6s 4ms/step - loss: 9.6941 - accuracy: 0.0994 - val_loss: 9.6709 - val_accuracy: 0.1000\n",
      "Epoch 16/20\n",
      "1563/1563 [==============================] - 6s 4ms/step - loss: 9.6333 - accuracy: 0.1008 - val_loss: 9.6709 - val_accuracy: 0.1000\n",
      "Epoch 17/20\n",
      "1563/1563 [==============================] - 6s 4ms/step - loss: 9.6744 - accuracy: 0.1000 - val_loss: 9.6709 - val_accuracy: 0.1000\n",
      "Epoch 18/20\n",
      "1563/1563 [==============================] - 6s 4ms/step - loss: 9.7003 - accuracy: 0.0991 - val_loss: 9.6709 - val_accuracy: 0.1000\n",
      "Epoch 19/20\n",
      "1563/1563 [==============================] - 6s 4ms/step - loss: 9.6311 - accuracy: 0.1013 - val_loss: 9.6709 - val_accuracy: 0.1000\n",
      "Epoch 20/20\n",
      "1563/1563 [==============================] - 6s 4ms/step - loss: 9.7053 - accuracy: 0.0995 - val_loss: 9.6709 - val_accuracy: 0.1000\n",
      "313/313 - 1s - loss: 3.5605 - accuracy: 0.6618\n",
      "313/313 - 1s - loss: 9.6709 - accuracy: 0.1000\n",
      "SoftMax CNN with Dropout Test Loss : %d Test Acccuracy: %d 3.5604844093322754 0.6618000268936157\n",
      "SoftMax CNN without Dropout Test Loss : %d Test Acccuracy: %d 9.670854568481445 0.10000000149011612\n"
     ]
    },
    {
     "data": {
      "image/png": "[encoded data removed]",
      "text/plain": [
       "<Figure size 432x288 with 1 Axes>"
      ]
     },
     "metadata": {
      "needs_background": "light"
     },
     "output_type": "display_data"
    }
   ],
   "source": [
    "# Experiement2: Softmax CNN with Dropout and without Dropout\n",
    "history1 = model1.fit(train_images, train_labels, epochs=20,\n",
    "          validation_data=(test_images, test_labels))\n",
    "history2 = model2.fit(train_images, train_labels, epochs=20,\n",
    "          validation_data=(test_images, test_labels))\n",
    "\n",
    "plt.plot(history1.history['accuracy'], label='Accuracy with Dropout')\n",
    "plt.plot(history1.history['val_accuracy'], label='val_accuracy with Dropout')\n",
    "plt.plot(history2.history['accuracy'], label='Accuracy without Dropout')\n",
    "plt.plot(history2.history['val_accuracy'], label='val_accuracy without Dropout')\n",
    "plt.xlabel('Epoch')\n",
    "plt.ylabel('Accuracy')\n",
    "plt.ylim([0.1, 1])\n",
    "plt.legend(loc='lower right')\n",
    "\n",
    "test_loss_1, test_acc_1 = model1.evaluate(test_images, test_labels, verbose=2)\n",
    "test_loss_2, test_acc_2 = model2.evaluate(test_images, test_labels, verbose=2)\n",
    "print(\"SoftMax CNN with Dropout Test Loss : %d Test Acccuracy: %d\", test_loss_1, test_acc_1)\n",
    "print(\"SoftMax CNN without Dropout Test Loss : %d Test Acccuracy: %d\", test_loss_2, test_acc_2)\n",
    "plt.show()"
   ]
  },
  {
   "cell_type": "code",
   "execution_count": 12,
   "metadata": {},
   "outputs": [
    {
     "name": "stdout",
     "output_type": "stream",
     "text": [
      "313/313 - 1s - loss: 0.3278 - accuracy: 0.6692\n",
      "SVM CNN with Dropout Test Loss : %d Test Acccuracy: %d 0.32777705788612366 0.6692000031471252\n"
     ]
    }
   ],
   "source": [
    "test_loss_3, test_acc_3 = model3.evaluate(test_images, test_labels, verbose=2)\n",
    "print(\"SVM CNN with Dropout Test Loss : %d Test Acccuracy: %d\", test_loss_3, test_acc_3)\n"
   ]
  }
 ],
 "metadata": {
  "kernelspec": {
   "display_name": "Python 3",
   "language": "python",
   "name": "python3"
  },
  "language_info": {
   "codemirror_mode": {
    "name": "ipython",
    "version": 3
   },
   "file_extension": ".py",
   "mimetype": "text/x-python",
   "name": "python",
   "nbconvert_exporter": "python",
   "pygments_lexer": "ipython3",
   "version": "3.7.7"
  }
 },
 "nbformat": 4,
 "nbformat_minor": 4
}
